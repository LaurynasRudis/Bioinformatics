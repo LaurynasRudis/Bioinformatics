{
 "cells": [
  {
   "cell_type": "markdown",
   "source": [
    "# Pagalbinės funkcijos"
   ],
   "metadata": {}
  },
  {
   "cell_type": "code",
   "execution_count": 1,
   "source": [
    "from Bio import SeqIO\r\n",
    "\r\n",
    "def isStopCodon(codon):\r\n",
    "    stop_codons = ['TAG', 'TAA', 'TGA']\r\n",
    "    isStopCodon = False\r\n",
    "    for stop_codon in stop_codons:\r\n",
    "        if codon.find(stop_codon) != -1:\r\n",
    "            isStopCodon = True\r\n",
    "    return isStopCodon\r\n",
    "\r\n",
    "def isStartCodon(codon):\r\n",
    "    if codon.find(\"ATG\") != -1:\r\n",
    "        return True\r\n",
    "    return False"
   ],
   "outputs": [],
   "metadata": {}
  },
  {
   "cell_type": "code",
   "execution_count": 2,
   "source": [
    "import numpy as np\r\n",
    "import pandas as pd\r\n",
    "\r\n",
    "def ratesToTable(all_rates, file_name):\r\n",
    "    if(len(all_rates) == 0):\r\n",
    "        return    \r\n",
    "    col_names = []\r\n",
    "    row_names = []\r\n",
    "    matrix = np.empty(shape=[len(all_rates), len(all_rates[0])-1])\r\n",
    "    for row, rates in enumerate(all_rates):\r\n",
    "        row_names.append(rates[0])\r\n",
    "        for col, (name, rate1) in enumerate(rates[1:]):\r\n",
    "            matrix[row][col] = rate1\r\n",
    "            if(row == 0):\r\n",
    "                col_names.append(name)\r\n",
    "    with open(\"viruses\\\\results\\\\{}.csv\".format(file_name), \"w\") as file:\r\n",
    "        file.write(pd.DataFrame(data = matrix, index=row_names, columns=col_names).to_csv())  \r\n",
    "    file.close()      "
   ],
   "outputs": [],
   "metadata": {}
  },
  {
   "cell_type": "code",
   "execution_count": 3,
   "source": [
    "def allCodons():\r\n",
    "    letters = \"ATCG\"\r\n",
    "    all_codons = []\r\n",
    "    for c1 in letters:\r\n",
    "        for c2 in letters:\r\n",
    "            for c3 in letters:\r\n",
    "                all_codons.append(c1+c2+c3)\r\n",
    "    return all_codons"
   ],
   "outputs": [],
   "metadata": {}
  },
  {
   "cell_type": "code",
   "execution_count": 4,
   "source": [
    "def allDicodons(all_codons):\r\n",
    "    all_dicodons = []\r\n",
    "    for codon1 in all_codons:\r\n",
    "        for codon2 in all_codons:\r\n",
    "            all_dicodons.append(codon1 + codon2)\r\n",
    "    return all_dicodons"
   ],
   "outputs": [],
   "metadata": {}
  },
  {
   "cell_type": "code",
   "execution_count": 5,
   "source": [
    "def csToString(coding_sequences):\r\n",
    "    coding_sequences_string = \"\"\r\n",
    "    for coding_sequence in coding_sequences:\r\n",
    "        coding_sequences_string += coding_sequence\r\n",
    "    return coding_sequences_string"
   ],
   "outputs": [],
   "metadata": {}
  },
  {
   "cell_type": "markdown",
   "source": [
    "# Koduojančių sekų paieška"
   ],
   "metadata": {}
  },
  {
   "cell_type": "code",
   "execution_count": 6,
   "source": [
    "from Bio import SeqIO\r\n",
    "\r\n",
    "def findCodingSequences(file_name):\r\n",
    "    fileLoc = \"viruses/data/{}.fasta\"\r\n",
    "    record = SeqIO.read(fileLoc.format(file_name), \"fasta\")\r\n",
    "    sequence = record.seq\r\n",
    "    coding_sequences_temp = []\r\n",
    "    coding_sequences = []\r\n",
    "    codon_count = 0\r\n",
    "    for sequence in [record.seq, record.seq.reverse_complement()]:\r\n",
    "        for frame in range(3):\r\n",
    "            length = (len(record)-frame)\r\n",
    "            codons = [sequence[frame+i:frame+i+3] for i in range (0, length, 3)]\r\n",
    "            frame_coding_sequences = []\r\n",
    "            orf = \"\"\r\n",
    "            write = False\r\n",
    "            for codon in codons:\r\n",
    "                if isStartCodon(codon):\r\n",
    "                    write = True\r\n",
    "                if isStopCodon(codon) and write:\r\n",
    "                    orf = orf + codon\r\n",
    "                    if(len(orf) > 100):\r\n",
    "                        frame_coding_sequences.append(orf)\r\n",
    "                    orf = \"\"\r\n",
    "                    write = False\r\n",
    "                elif write:\r\n",
    "                    orf = orf + codon\r\n",
    "            coding_sequences_temp.append(frame_coding_sequences)\r\n",
    "            with open(\"viruses\\\\results\\\\{}_coding_sequences.txt\".format(file_name), \"w\") as file:\r\n",
    "                file.write(\"{}\\n\".format(record.id))\r\n",
    "                for frame_coding_sequences in coding_sequences_temp:\r\n",
    "                    for coding_sequence in frame_coding_sequences:\r\n",
    "                        file.write(\"{}\\n\".format(coding_sequence))\r\n",
    "                        coding_sequences.append(coding_sequence)\r\n",
    "                        codon_count += len(coding_sequence)/3\r\n",
    "    file.close()\r\n",
    "    return (record.id, coding_sequences, codon_count)  "
   ],
   "outputs": [],
   "metadata": {}
  },
  {
   "cell_type": "markdown",
   "source": [
    "# Dažnių skaičiavimas"
   ],
   "metadata": {}
  },
  {
   "cell_type": "code",
   "execution_count": 7,
   "source": [
    "def findCodonRate(id_codingSequences, all_codons):\r\n",
    "    (id, coding_sequences, length) = id_codingSequences\r\n",
    "    codon_rates = [id]\r\n",
    "    coding_sequences_string = csToString(coding_sequences)\r\n",
    "    for codon in all_codons:\r\n",
    "        codon_rates.append((codon,coding_sequences_string.count(codon)/length))\r\n",
    "    return codon_rates\r\n",
    "\r\n",
    "\r\n",
    "def findDicodonRate(id_codingSequences_len, all_dicodons):\r\n",
    "    (id, coding_sequences, length) = id_codingSequences_len\r\n",
    "    dicodon_count_dict = {}\r\n",
    "    dicodons_count = 0\r\n",
    "    dicodon_rates = [id]\r\n",
    "\r\n",
    "    for dicodon in all_dicodons:\r\n",
    "        dicodon_count_dict[dicodon] = 0\r\n",
    "    for coding_sequence in coding_sequences:\r\n",
    "        dicodons = [coding_sequence[i:i+6] for i in range (0, len(coding_sequence), 3)]\r\n",
    "        for dicodon in dicodons:\r\n",
    "            if(dicodon_count_dict.get(dicodon) != None):\r\n",
    "                dicodons_count += 1\r\n",
    "                dicodon_count_dict[dicodon] += 1\r\n",
    "    for (name, count) in dicodon_count_dict.items():\r\n",
    "        dicodon_rates.append((name,count/dicodons_count))\r\n",
    "    return dicodon_rates"
   ],
   "outputs": [],
   "metadata": {}
  },
  {
   "cell_type": "markdown",
   "source": [
    "# Atstumo skaičiavimas"
   ],
   "metadata": {}
  },
  {
   "cell_type": "code",
   "execution_count": 8,
   "source": [
    "import math\r\n",
    "import numpy as np\r\n",
    "import pandas as pd\r\n",
    "\r\n",
    "def countDistances(all_rates, file_name):\r\n",
    "    matrix = np.empty(shape =[len(all_rates), len(all_rates)])\r\n",
    "    row_names = []\r\n",
    "    for row, rates1 in enumerate(all_rates):\r\n",
    "        row_names.append(rates1[0])\r\n",
    "        for col, rates2 in enumerate(all_rates):\r\n",
    "            sum = 0\r\n",
    "            for idx, (_,rate1) in enumerate(rates1[1:], start = 1):\r\n",
    "                (_, rate2) = rates2[idx]\r\n",
    "                sum += (rate1 - rate2)**2\r\n",
    "            matrix[row][col] = math.sqrt(sum)\r\n",
    "    with open(\"viruses\\\\results\\\\{}_distances.txt\".format(file_name), \"w\") as file:\r\n",
    "        file.write(pd.DataFrame(matrix, index=row_names).to_string())\r\n",
    "    file.close()    "
   ],
   "outputs": [],
   "metadata": {}
  },
  {
   "cell_type": "markdown",
   "source": [
    "# Pagrindinė funkcija"
   ],
   "metadata": {}
  },
  {
   "cell_type": "code",
   "execution_count": 9,
   "source": [
    "file_name_array = []\r\n",
    "\r\n",
    "bacterial1 = \"bacterial1\"\r\n",
    "bacterial2 = \"bacterial2\"\r\n",
    "bacterial3 = \"bacterial3\"\r\n",
    "bacterial4 = \"bacterial4\"\r\n",
    "mamalian1 = \"mamalian1\"\r\n",
    "mamalian2 = \"mamalian2\"\r\n",
    "mamalian3 = \"mamalian3\"\r\n",
    "mamalian4 = \"mamalian4\"\r\n",
    "\r\n",
    "file_name_array.append(bacterial1)\r\n",
    "file_name_array.append(bacterial2)\r\n",
    "file_name_array.append(bacterial3)\r\n",
    "file_name_array.append(bacterial4)\r\n",
    "file_name_array.append(mamalian1)\r\n",
    "file_name_array.append(mamalian2)\r\n",
    "file_name_array.append(mamalian3)\r\n",
    "file_name_array.append(mamalian4)\r\n",
    "\r\n",
    "all_codons = allCodons()\r\n",
    "all_dicodons = allDicodons(all_codons)\r\n",
    "all_coding_sequences = []\r\n",
    "all_codon_rates = []\r\n",
    "all_dicodon_rates = []\r\n",
    "\r\n",
    "for file_name in file_name_array:\r\n",
    "    all_coding_sequences.append(findCodingSequences(file_name))\r\n",
    "\r\n",
    "for coding_sequences in all_coding_sequences:\r\n",
    "    all_codon_rates.append(findCodonRate(coding_sequences, all_codons))\r\n",
    "    all_dicodon_rates.append(findDicodonRate(coding_sequences, all_dicodons))\r\n",
    "\r\n",
    "\r\n",
    "countDistances(all_codon_rates, \"codons_rate\")\r\n",
    "countDistances(all_dicodon_rates, \"dicodons_rate\")\r\n",
    "ratesToTable(all_codon_rates, \"codons_rates\")\r\n",
    "ratesToTable(all_dicodon_rates, \"dicodons_rates\")"
   ],
   "outputs": [],
   "metadata": {}
  }
 ],
 "metadata": {
  "orig_nbformat": 4,
  "language_info": {
   "name": "python",
   "version": "3.8.6",
   "mimetype": "text/x-python",
   "codemirror_mode": {
    "name": "ipython",
    "version": 3
   },
   "pygments_lexer": "ipython3",
   "nbconvert_exporter": "python",
   "file_extension": ".py"
  },
  "kernelspec": {
   "name": "python3",
   "display_name": "Python 3.8.6 64-bit"
  },
  "interpreter": {
   "hash": "937782bb4748443ae0bf4fb117c6780bef1ea01c14b2a9b15e05945cbfcc2681"
  }
 },
 "nbformat": 4,
 "nbformat_minor": 2
}