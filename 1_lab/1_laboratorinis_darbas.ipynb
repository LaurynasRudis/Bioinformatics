{
 "cells": [
  {
   "cell_type": "code",
   "execution_count": 191,
   "source": [
    "def isStopCodon(codon, stop_codones):\r\n",
    "    isStopCodon = False\r\n",
    "    for stop_codon in stop_codones:\r\n",
    "        if codon.find(stop_codon) != -1:\r\n",
    "            isStopCodon = True\r\n",
    "    return isStopCodon\r\n",
    "\r\n",
    "def isStartCodon(codon):\r\n",
    "    if codon.find(\"ATG\") != -1:\r\n",
    "        return True\r\n",
    "    return False"
   ],
   "outputs": [],
   "metadata": {}
  },
  {
   "cell_type": "code",
   "execution_count": 192,
   "source": [
    "from Bio import SeqIO\r\n",
    "\r\n",
    "folder_name = \"viruses/data/\"\r\n",
    "bacterial1_file = \"bacterial1.fasta\"\r\n",
    "bacterial2_file = \"bacterial2.fasta\"\r\n",
    "bacterial3_file = \"bacterial3.fasta\"\r\n",
    "bacterial4_file = \"bacterial4.fasta\"\r\n",
    "mamalian1_file = \"mamalian1.fasta\"\r\n",
    "mamalian2_file = \"mamalian2.fasta\"\r\n",
    "mamalian3_file = \"mamalian3.fasta\"\r\n",
    "mamalian4_file = \"mamalian4.fasta\"\r\n",
    "\r\n",
    "start_codon = ['ATG']\r\n",
    "stop_codones = ['TAG', 'TAA', 'TGA']\r\n",
    "\r\n",
    "record = SeqIO.read(folder_name+bacterial1_file, \"fasta\")\r\n",
    "sequence = record.seq\r\n",
    "table = 11\r\n",
    "min_pro_len = 2\r\n",
    "coding_sequences = []\r\n",
    "\r\n",
    "for strand, sequence in [(\"forward\", record.seq), (\"reverse\", record.seq.reverse_complement())]:\r\n",
    "    for frame in range(3):\r\n",
    "        length = (len(record)-frame)\r\n",
    "        codones = [sequence[frame+i:frame+i+3] for i in range (0, length, 3)]\r\n",
    "        frame_coding_sequences = []\r\n",
    "        orf = \"\"\r\n",
    "        write = False\r\n",
    "        for codon in codones:\r\n",
    "            if isStartCodon(codon):\r\n",
    "                write = True\r\n",
    "            if isStopCodon(codon, stop_codones) and write:\r\n",
    "                orf = orf + codon\r\n",
    "                if(len(orf) > 100):\r\n",
    "                    frame_coding_sequences.append(orf)\r\n",
    "                orf = \"\"\r\n",
    "                write = False\r\n",
    "            elif write:\r\n",
    "                orf = orf + codon\r\n",
    "        coding_sequences.append(frame_coding_sequences)\r\n",
    "print(coding_sequences[4])"
   ],
   "outputs": [
    {
     "output_type": "stream",
     "name": "stdout",
     "text": [
      "[Seq('ATGGAAGATAAAGAATTTTTGATTAAAAAAGTAGAATTATTAGAATCAGCAATC...TAA'), Seq('ATGATAACATCTTTTGAATCACTAGCTGAAAGGCGTTTAATAACTCTTAATTAT...TAA'), Seq('ATGGCAATCATCACAGTTACAGCACAAGCGAACGAAAAAAATACACGAACAGTA...TAG'), Seq('ATGTATACAGCAGAAGAGAAAGAACAAATTATCGACATCGTGGATAAGATGAGC...TGA'), Seq('ATGAAAAGAAAATATTTTAATGACAAAAGATATTGCCACTGCTTCGATGTACCA...TAA'), Seq('ATGATATACGCTTCAGCAAAGAAATTTTTGATGAATTATTTGAAGAAGTTTGGC...TAA'), Seq('ATGAGTTATTTTATATCTGTATTCCAGAGCCTCATGATAGAAACGGCTATTTGG...TAG'), Seq('ATGTGTAAGAAACGCAAATACACAAAAATGGGCGCTTTATATTCAATAGCAAAT...TAA'), Seq('ATGACAAATGAAGAATTGTATGAAAGAATTAATAGCATGCTAAAAGAGCAAGGT...TGA'), Seq('ATGACTAAATCACGTTTGAGCTTACCGAATACCGTAGCATTCCCTTATCTTACT...TAA'), Seq('ATGGTAAAACATTTTTTTGTAGAAGAAGATGACAATGGCAAAGAAATTAAGCGA...TAA'), Seq('ATGGCGAATATGATAAAGTTGAAACGCCAGAACGACAAGAACCGCCAAAATTTT...TAA'), Seq('ATGATAAGACAACTGAACAACCTGACACCGAAAGGACGCAAGAAGTTAGCGATG...TAA'), Seq('ATGTTATTTATAAGGAGTCGAGTGGAAACCCTTATGTTACTAATCCGATTGGAT...TGA'), Seq('ATGTCAGCAGTTGTTACTTCGCTAGCTGAGGGCAACCAAGGAGTGGCGGTTGAG...TGA'), Seq('ATGCCATTTTTCACCAACAATTGTGTTGAAATCATTGGCTCCAACATTTCCATG...TGA'), Seq('ATGTTCTTTATTGTTGCTAGTGCTTTTTCTCGATACTCTTGTGTATTATCAATA...TGA'), Seq('ATGCTATTGTGTTCGCCCTTAGAACTCCAGTTTAGAACCTCGTCTAAGTCAGAA...TGA'), Seq('ATGAACTTCATCAAATATATTGAGCGAACTGTTCCCACCTTGCGCCCTCAAAGT...TAG')]\n"
     ]
    }
   ],
   "metadata": {}
  }
 ],
 "metadata": {
  "orig_nbformat": 4,
  "language_info": {
   "name": "python",
   "version": "3.8.6",
   "mimetype": "text/x-python",
   "codemirror_mode": {
    "name": "ipython",
    "version": 3
   },
   "pygments_lexer": "ipython3",
   "nbconvert_exporter": "python",
   "file_extension": ".py"
  },
  "kernelspec": {
   "name": "python3",
   "display_name": "Python 3.8.6 64-bit"
  },
  "interpreter": {
   "hash": "937782bb4748443ae0bf4fb117c6780bef1ea01c14b2a9b15e05945cbfcc2681"
  }
 },
 "nbformat": 4,
 "nbformat_minor": 2
}